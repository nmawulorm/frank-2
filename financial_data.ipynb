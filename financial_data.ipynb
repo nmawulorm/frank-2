{
 "cells": [
  {
   "metadata": {},
   "cell_type": "markdown",
   "source": [
    "# Financial Data\n",
    "## Part 1\n",
    "\n",
    "Things to be done:\n",
    "- Read https://www.degruyter.com/document/doi/10.1515/econ-2022-0073/html?lang=en&srsltid=AfmBOopx0PUyi532zVdGwVIkuRCZqeoEjSpjyeZYmuHhSF0npyPNbkjO\n",
    "- **Step 3. Replication**\n",
    "    - Pick one of the funds.\n",
    "    - Download its data.\n",
    "    - Pick 1 of the easier metrics (e.g. Correlation, or Dispersion ratio are easier than\n",
    "    LASSO).\n",
    "    - Implement the cross-fold validation or k-cross-fold validation.\n",
    "    - Reproduce the table\n",
    "    - Reproduce the graphs."
   ],
   "id": "c5e7d9b06e0ef8a2"
  },
  {
   "metadata": {},
   "cell_type": "markdown",
   "source": "# Picking a fund and downloading the data",
   "id": "f7c6fbeec14fb93c"
  },
  {
   "metadata": {
    "jupyter": {
     "is_executing": true
    }
   },
   "cell_type": "code",
   "source": [
    "import yfinance as yf\n",
    "import pandas as pd\n",
    "\n",
    "# Download ECH stock data (or replace with IVV/EQZ)\n",
    "ticker = \"ECH\"\n",
    "ech_data = yf.download(ticker, start=\"2015-01-01\", end=\"2024-01-01\")\n",
    "\n",
    "# Display the first few rows of data\n",
    "ech_data.head()\n"
   ],
   "id": "d68445e766316be6",
   "outputs": [],
   "execution_count": null
  }
 ],
 "metadata": {
  "kernelspec": {
   "display_name": "Python 3",
   "language": "python",
   "name": "python3"
  },
  "language_info": {
   "codemirror_mode": {
    "name": "ipython",
    "version": 2
   },
   "file_extension": ".py",
   "mimetype": "text/x-python",
   "name": "python",
   "nbconvert_exporter": "python",
   "pygments_lexer": "ipython2",
   "version": "2.7.6"
  }
 },
 "nbformat": 4,
 "nbformat_minor": 5
}
