{
 "cells": [
  {
   "metadata": {},
   "cell_type": "markdown",
   "source": [
    "# Financial Data\n",
    "## Part 1\n",
    "\n",
    "Things to be done:\n",
    "- Read https://www.degruyter.com/document/doi/10.1515/econ-2022-0073/html?lang=en&srsltid=AfmBOopx0PUyi532zVdGwVIkuRCZqeoEjSpjyeZYmuHhSF0npyPNbkjO\n",
    "- **Step 3. Replication**\n",
    "    - Pick one of the funds.\n",
    "    - Download its data.\n",
    "    - Pick 1 of the easier metrics (e.g. Correlation, or Dispersion ratio are easier than\n",
    "    LASSO).\n",
    "    - Implement the cross-fold validation or k-cross-fold validation.\n",
    "    - Reproduce the table\n",
    "    - Reproduce the graphs."
   ],
   "id": "c5e7d9b06e0ef8a2"
  },
  {
   "metadata": {},
   "cell_type": "markdown",
   "source": "# Picking a fund and downloading the data",
   "id": "f7c6fbeec14fb93c"
  },
  {
   "metadata": {
    "ExecuteTime": {
     "end_time": "2025-01-29T21:31:59.509560Z",
     "start_time": "2025-01-29T21:31:51.638237Z"
    }
   },
   "cell_type": "code",
   "source": [
    "import yfinance as yf\n",
    "import pandas as pd\n",
    "\n",
    "# Download ECH stock data (or replace with IVV/EQZ)\n",
    "ticker = \"ECH\"\n",
    "ech_data = yf.download(ticker, start=\"2015-01-01\", end=\"2024-01-01\")\n",
    "\n",
    "# Display the first few rows of data\n",
    "ech_data.head()\n"
   ],
   "id": "d68445e766316be6",
   "outputs": [
    {
     "name": "stderr",
     "output_type": "stream",
     "text": [
      "[*********************100%***********************]  1 of 1 completed\n"
     ]
    },
    {
     "data": {
      "text/plain": [
       "Price           Close       High        Low       Open  Volume\n",
       "Ticker            ECH        ECH        ECH        ECH     ECH\n",
       "Date                                                          \n",
       "2015-01-02  29.007071  29.360366  28.911385  29.308844  257000\n",
       "2015-01-05  28.484489  28.948191  28.469768  28.815705  355800\n",
       "2015-01-06  28.403526  28.712659  28.359363  28.521292  262300\n",
       "2015-01-07  28.543375  28.727383  28.521295  28.609618  373700\n",
       "2015-01-08  28.734743  28.852508  28.646417  28.778903  139900"
      ],
      "text/html": [
       "<div>\n",
       "<style scoped>\n",
       "    .dataframe tbody tr th:only-of-type {\n",
       "        vertical-align: middle;\n",
       "    }\n",
       "\n",
       "    .dataframe tbody tr th {\n",
       "        vertical-align: top;\n",
       "    }\n",
       "\n",
       "    .dataframe thead tr th {\n",
       "        text-align: left;\n",
       "    }\n",
       "\n",
       "    .dataframe thead tr:last-of-type th {\n",
       "        text-align: right;\n",
       "    }\n",
       "</style>\n",
       "<table border=\"1\" class=\"dataframe\">\n",
       "  <thead>\n",
       "    <tr>\n",
       "      <th>Price</th>\n",
       "      <th>Close</th>\n",
       "      <th>High</th>\n",
       "      <th>Low</th>\n",
       "      <th>Open</th>\n",
       "      <th>Volume</th>\n",
       "    </tr>\n",
       "    <tr>\n",
       "      <th>Ticker</th>\n",
       "      <th>ECH</th>\n",
       "      <th>ECH</th>\n",
       "      <th>ECH</th>\n",
       "      <th>ECH</th>\n",
       "      <th>ECH</th>\n",
       "    </tr>\n",
       "    <tr>\n",
       "      <th>Date</th>\n",
       "      <th></th>\n",
       "      <th></th>\n",
       "      <th></th>\n",
       "      <th></th>\n",
       "      <th></th>\n",
       "    </tr>\n",
       "  </thead>\n",
       "  <tbody>\n",
       "    <tr>\n",
       "      <th>2015-01-02</th>\n",
       "      <td>29.007071</td>\n",
       "      <td>29.360366</td>\n",
       "      <td>28.911385</td>\n",
       "      <td>29.308844</td>\n",
       "      <td>257000</td>\n",
       "    </tr>\n",
       "    <tr>\n",
       "      <th>2015-01-05</th>\n",
       "      <td>28.484489</td>\n",
       "      <td>28.948191</td>\n",
       "      <td>28.469768</td>\n",
       "      <td>28.815705</td>\n",
       "      <td>355800</td>\n",
       "    </tr>\n",
       "    <tr>\n",
       "      <th>2015-01-06</th>\n",
       "      <td>28.403526</td>\n",
       "      <td>28.712659</td>\n",
       "      <td>28.359363</td>\n",
       "      <td>28.521292</td>\n",
       "      <td>262300</td>\n",
       "    </tr>\n",
       "    <tr>\n",
       "      <th>2015-01-07</th>\n",
       "      <td>28.543375</td>\n",
       "      <td>28.727383</td>\n",
       "      <td>28.521295</td>\n",
       "      <td>28.609618</td>\n",
       "      <td>373700</td>\n",
       "    </tr>\n",
       "    <tr>\n",
       "      <th>2015-01-08</th>\n",
       "      <td>28.734743</td>\n",
       "      <td>28.852508</td>\n",
       "      <td>28.646417</td>\n",
       "      <td>28.778903</td>\n",
       "      <td>139900</td>\n",
       "    </tr>\n",
       "  </tbody>\n",
       "</table>\n",
       "</div>"
      ]
     },
     "execution_count": 1,
     "metadata": {},
     "output_type": "execute_result"
    }
   ],
   "execution_count": 1
  },
  {
   "metadata": {},
   "cell_type": "markdown",
   "source": "# Calculate an Easy Metric (Correlation)",
   "id": "2c3606de9a23a66f"
  },
  {
   "metadata": {
    "ExecuteTime": {
     "end_time": "2025-01-29T21:37:33.305639Z",
     "start_time": "2025-01-29T21:37:33.237834Z"
    }
   },
   "cell_type": "code",
   "source": [
    "# Compute correlation matrix\n",
    "correlation_matrix = ech_data.corr()\n",
    "\n",
    "# Display correlation matrix\n",
    "print(correlation_matrix)\n"
   ],
   "id": "6d8c59707cc425ec",
   "outputs": [
    {
     "name": "stdout",
     "output_type": "stream",
     "text": [
      "Price             Close      High       Low      Open    Volume\n",
      "Ticker              ECH       ECH       ECH       ECH       ECH\n",
      "Price  Ticker                                                  \n",
      "Close  ECH     1.000000  0.999222  0.999324  0.998301 -0.133841\n",
      "High   ECH     0.999222  1.000000  0.999113  0.999294 -0.127609\n",
      "Low    ECH     0.999324  0.999113  1.000000  0.999168 -0.140644\n",
      "Open   ECH     0.998301  0.999294  0.999168  1.000000 -0.134156\n",
      "Volume ECH    -0.133841 -0.127609 -0.140644 -0.134156  1.000000\n"
     ]
    }
   ],
   "execution_count": 2
  },
  {
   "metadata": {},
   "cell_type": "markdown",
   "source": "# Implement K-Fold Cross-Validation",
   "id": "61095fad7371f843"
  },
  {
   "metadata": {
    "ExecuteTime": {
     "end_time": "2025-01-29T21:39:14.489176Z",
     "start_time": "2025-01-29T21:39:12.383454Z"
    }
   },
   "cell_type": "code",
   "source": [
    "from sklearn.model_selection import KFold, cross_val_score\n",
    "from sklearn.linear_model import LinearRegression\n",
    "import numpy as np\n",
    "\n",
    "# Prepare Data (Using Closing Prices)\n",
    "ech_data['Next_Close'] = ech_data['Close'].shift(-1)  # Target Variable\n",
    "ech_data.dropna(inplace=True)  # Drop missing values\n",
    "\n",
    "# Define features and target variable\n",
    "X = ech_data[['Open', 'High', 'Low', 'Volume']]  # Features\n",
    "y = ech_data['Next_Close']  # Target\n",
    "\n",
    "# Initialize K-Fold Cross-Validation (K=5)\n",
    "kf = KFold(n_splits=5, shuffle=True, random_state=42)\n",
    "model = LinearRegression()\n",
    "\n",
    "# Perform Cross-Validation\n",
    "cv_scores = cross_val_score(model, X, y, cv=kf, scoring='r2')  # R^2 as scoring metric\n",
    "print(\"Cross-Validation R^2 Scores:\", cv_scores)\n",
    "print(\"Average R^2 Score:\", np.mean(cv_scores))\n"
   ],
   "id": "b1a905319f21505e",
   "outputs": [
    {
     "name": "stdout",
     "output_type": "stream",
     "text": [
      "Cross-Validation R^2 Scores: [0.99341422 0.99374784 0.99289381 0.99418722 0.99360407]\n",
      "Average R^2 Score: 0.9935694317250183\n"
     ]
    }
   ],
   "execution_count": 3
  },
  {
   "metadata": {},
   "cell_type": "markdown",
   "source": "# Reproduce the Table",
   "id": "dc140fd4bdaf67e5"
  },
  {
   "metadata": {
    "ExecuteTime": {
     "end_time": "2025-01-29T21:40:57.164061Z",
     "start_time": "2025-01-29T21:40:55.461200Z"
    }
   },
   "cell_type": "code",
   "source": [
    "import seaborn as sns\n",
    "import matplotlib.pyplot as plt\n",
    "\n",
    "# Plot Correlation Heatmap\n",
    "plt.figure(figsize=(8,6))\n",
    "sns.heatmap(correlation_matrix, annot=True, cmap=\"coolwarm\", fmt=\".2f\")\n",
    "plt.title(\"Feature Correlation Matrix for ECH\")\n",
    "plt.show()\n"
   ],
   "id": "ccf7d124df9d4c56",
   "outputs": [
    {
     "data": {
      "text/plain": [
       "<Figure size 800x600 with 2 Axes>"
      ],
      "image/png": "[encoded data removed]"
     },
     "metadata": {},
     "output_type": "display_data"
    }
   ],
   "execution_count": 4
  },
  {
   "metadata": {},
   "cell_type": "markdown",
   "source": "",
   "id": "9c841f4c0df21cae"
  }
 ],
 "metadata": {
  "kernelspec": {
   "display_name": "Python 3",
   "language": "python",
   "name": "python3"
  },
  "language_info": {
   "codemirror_mode": {
    "name": "ipython",
    "version": 2
   },
   "file_extension": ".py",
   "mimetype": "text/x-python",
   "name": "python",
   "nbconvert_exporter": "python",
   "pygments_lexer": "ipython2",
   "version": "2.7.6"
  }
 },
 "nbformat": 4,
 "nbformat_minor": 5
}
